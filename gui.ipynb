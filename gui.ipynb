{
 "cells": [
  {
   "cell_type": "code",
   "execution_count": 15,
   "metadata": {},
   "outputs": [
    {
     "data": {
      "application/vnd.jupyter.widget-view+json": {
       "model_id": "5c03deb1371d48fe8a54dde3448a2963",
       "version_major": 2,
       "version_minor": 0
      },
      "text/plain": [
       "Box(children=(Output(layout=Layout(max_height='350px', width='autopx')),))"
      ]
     },
     "metadata": {},
     "output_type": "display_data"
    }
   ],
   "source": [
    "import logging\n",
    "import ipywidgets as wd\n",
    "import polars as pl\n",
    "from IPython.display import display, HTML\n",
    "\n",
    "\n",
    "\n",
    "\n",
    "class App:\n",
    "    price_data: pl.LazyFrame\n",
    "    weather_data: pl.LazyFrame\n",
    "    combined_data: pl.LazyFrame\n",
    "    logger = logging.getLogger(\"App\")\n",
    "    logger.setLevel(logging.INFO)\n",
    "\n",
    "\n",
    "    def read_price_data(self, path: str):\n",
    "        \"\"\"Read the price history.\"\"\"\n",
    "        schema = {\n",
    "            \"Datetime (Local)\": pl.Datetime(\"ms\"),\n",
    "            \"Price (EUR/MWhe)\": pl.Float32,\n",
    "        }\n",
    "        price_data = pl.read_csv(path, schema=schema).lazy()\n",
    "        price_data = price_data.rename({\"Datetime (Local)\": \"time\", \"Price (EUR/MWhe)\": \"price\"})\n",
    "        self.price_data = price_data\n",
    "\n",
    "    def read_weather_data(self, path: str):\n",
    "        \"\"\"Read weather data.\"\"\"\n",
    "        schema = {\n",
    "            \"time\": pl.Datetime(\"ms\"),\n",
    "            \"wsp_150.0\": pl.Float32,\n",
    "            \"power\": pl.Float32,\n",
    "            \"price\": pl.Float32,\n",
    "            \"Income\": pl.Float32\n",
    "        }\n",
    "        data = pl.read_csv(path, schema=schema).lazy().rename({\"wsp_150.0\": \"wind_speed\"})\n",
    "        self.weather_data = data\n",
    "\n",
    "\n",
    "    def _join_data(self):\n",
    "        combined_data = self.weather_data.join(self.price_data, on=\"time\", how=\"inner\")\n",
    "        self.combined_data = combined_data\n",
    "\n",
    "\n",
    "app = App()\n",
    "app.read_price_data(\"price_power_income.csv\")\n",
    "\n",
    "schema = {\n",
    "    \"time\": pl.Datetime(\"ms\"),\n",
    "    \"wsp_150.0\": pl.Float32,\n",
    "    \"power\": pl.Float32,\n",
    "    \"price\": pl.Float32,\n",
    "    \"Income\": pl.Float32\n",
    "}\n",
    "data = pl.read_csv(\"price_power_income.csv\", schema=schema)\n",
    "\n",
    "out = wd.Output(layout=wd.Layout(width=\"autopx\", max_height=\"350px\"))\n",
    "\n",
    "with out:\n",
    "    with pl.Config() as cfg:\n",
    "        cfg.set_tbl_rows(-1)\n",
    "        display(HTML(data._repr_html_()))\n",
    "\n",
    "\n",
    "app = wd.Box((out,))\n",
    "\n",
    "\n",
    "display(app)"
   ]
  }
 ],
 "metadata": {
  "kernelspec": {
   "display_name": "Python 3",
   "language": "python",
   "name": "python3"
  },
  "language_info": {
   "codemirror_mode": {
    "name": "ipython",
    "version": 3
   },
   "file_extension": ".py",
   "mimetype": "text/x-python",
   "name": "python",
   "nbconvert_exporter": "python",
   "pygments_lexer": "ipython3",
   "version": "3.12.2"
  }
 },
 "nbformat": 4,
 "nbformat_minor": 2
}
