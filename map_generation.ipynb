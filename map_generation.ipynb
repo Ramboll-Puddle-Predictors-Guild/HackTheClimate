{
 "cells": [
  {
   "cell_type": "markdown",
   "metadata": {},
   "source": [
    "## Import the modules needed"
   ]
  },
  {
   "cell_type": "code",
   "execution_count": null,
   "metadata": {},
   "outputs": [],
   "source": [
    "import geopandas as gpd\n",
    "import folium\n",
    "import numpy as np"
   ]
  },
  {
   "cell_type": "markdown",
   "metadata": {},
   "source": [
    "## Load Json Files"
   ]
  },
  {
   "cell_type": "code",
   "execution_count": null,
   "metadata": {},
   "outputs": [],
   "source": [
    "# Load the GeoJSON files\n",
    "gdf_denmark = gpd.read_file(\"location\\denmark.json\")  # Denmark data\n",
    "gdf_latvia = gpd.read_file(\"location\\latvia.json\")  # Latvia data"
   ]
  },
  {
   "cell_type": "markdown",
   "metadata": {},
   "source": [
    "## User Selection"
   ]
  },
  {
   "cell_type": "code",
   "execution_count": null,
   "metadata": {},
   "outputs": [],
   "source": [
    "# User selection variable\n",
    "# user_selection = \"Latvia\"  # Change to 'Latvia' as needed\n",
    "windfarm = input(\"Please select a wind farm: \").lower()"
   ]
  },
  {
   "cell_type": "markdown",
   "metadata": {},
   "source": [
    "## Filter and plot the data"
   ]
  },
  {
   "cell_type": "code",
   "execution_count": null,
   "metadata": {},
   "outputs": [],
   "source": [
    "def generate_map(windfarm):\n",
    "    # Load the GeoJSON files\n",
    "    gdf_denmark = gpd.read_file(\"location\\denmark.json\")  # Denmark data\n",
    "    gdf_latvia = gpd.read_file(\"location\\latvia.json\")  # Latvia data\n",
    "\n",
    "    # Filter the GeoDataFrames\n",
    "    nordsren_iii_vest = gdf_denmark[gdf_denmark[\"name\"] == \"Nordsren III vest\"]\n",
    "    latvia_wind_farm = gdf_latvia\n",
    "\n",
    "    # Function to calculate the average coordinates from a GeoDataFrame\n",
    "    def calculate_average_coords(gdf):\n",
    "        lats, lons = [], []\n",
    "        for geom in gdf.geometry:\n",
    "            if geom.geom_type == \"MultiPolygon\":\n",
    "                for polygon in geom.geoms:\n",
    "                    xs, ys = polygon.exterior.xy\n",
    "                    lats.extend(ys)\n",
    "                    lons.extend(xs)\n",
    "            elif geom.geom_type == \"Polygon\":\n",
    "                xs, ys = geom.exterior.xy\n",
    "                lats.extend(ys)\n",
    "                lons.extend(xs)\n",
    "        return np.mean(lats), np.mean(lons)\n",
    "\n",
    "    # Function to extract coordinates for plotting\n",
    "    def extract_coords(gdf):\n",
    "        coords = []\n",
    "        for geom in gdf.geometry:\n",
    "            if geom.geom_type == \"MultiPolygon\":\n",
    "                for polygon in geom.geoms:\n",
    "                    exterior_coords = [\n",
    "                        [point[1], point[0]] for point in polygon.exterior.coords\n",
    "                    ]\n",
    "                    coords.append(exterior_coords)\n",
    "            elif geom.geom_type == \"Polygon\":\n",
    "                exterior_coords = [\n",
    "                    [point[1], point[0]] for point in geom.exterior.coords\n",
    "                ]\n",
    "                coords.append(exterior_coords)\n",
    "        return coords\n",
    "\n",
    "    # Calculate average coordinates for Denmark and Latvia individually\n",
    "    lat_denmark, lon_denmark = calculate_average_coords(nordsren_iii_vest)\n",
    "    lat_latvia, lon_latvia = calculate_average_coords(latvia_wind_farm)\n",
    "\n",
    "    # Create focused maps based on user selection\n",
    "    focused_map = folium.Map(\n",
    "        location=(\n",
    "            [lat_denmark, lon_denmark]\n",
    "            if windfarm == \"nordsen iii vest\"\n",
    "            else [lat_latvia, lon_latvia]\n",
    "        ),\n",
    "        zoom_start=7,\n",
    "    )\n",
    "\n",
    "    # Add polygons based on user selection\n",
    "    if windfarm == \"nordsen iii vest\":\n",
    "        denmark_coords = extract_coords(nordsren_iii_vest)\n",
    "        for polygon in denmark_coords:\n",
    "            folium.Polygon(\n",
    "                locations=polygon,\n",
    "                color=\"blue\",\n",
    "                fill=True,\n",
    "                fill_color=\"blue\",\n",
    "                fill_opacity=0.5,\n",
    "            ).add_to(focused_map)\n",
    "\n",
    "    elif windfarm == \"e2\":\n",
    "        latvia_coords = extract_coords(latvia_wind_farm)\n",
    "        for polygon in latvia_coords:\n",
    "            folium.Polygon(\n",
    "                locations=polygon,\n",
    "                color=\"green\",\n",
    "                fill=True,\n",
    "                fill_color=\"green\",\n",
    "                fill_opacity=0.5,\n",
    "            ).add_to(focused_map)\n",
    "\n",
    "    # Return the map\n",
    "    return focused_map"
   ]
  },
  {
   "cell_type": "code",
   "execution_count": null,
   "metadata": {},
   "outputs": [],
   "source": [
    "print(windfarm)"
   ]
  },
  {
   "cell_type": "code",
   "execution_count": null,
   "metadata": {},
   "outputs": [],
   "source": [
    "map = generate_map(windfarm)\n",
    "map"
   ]
  }
 ],
 "metadata": {
  "kernelspec": {
   "display_name": "Python 3",
   "language": "python",
   "name": "python3"
  },
  "language_info": {
   "codemirror_mode": {
    "name": "ipython",
    "version": 3
   },
   "file_extension": ".py",
   "mimetype": "text/x-python",
   "name": "python",
   "nbconvert_exporter": "python",
   "pygments_lexer": "ipython3",
   "version": "3.9.18"
  }
 },
 "nbformat": 4,
 "nbformat_minor": 2
}
