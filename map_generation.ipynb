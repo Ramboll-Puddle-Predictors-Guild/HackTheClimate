{
 "cells": [
  {
   "cell_type": "markdown",
   "metadata": {},
   "source": [
    "## Import the modules needed"
   ]
  },
  {
   "cell_type": "code",
   "execution_count": 1,
   "metadata": {},
   "outputs": [],
   "source": [
    "import geopandas as gpd\n",
    "import folium\n",
    "import numpy as np"
   ]
  },
  {
   "cell_type": "markdown",
   "metadata": {},
   "source": [
    "## Load Json Files"
   ]
  },
  {
   "cell_type": "code",
   "execution_count": 3,
   "metadata": {},
   "outputs": [],
   "source": [
    "# Load the GeoJSON files\n",
    "gdf_denmark = gpd.read_file(\"./location/denmark.json\")  # Denmark data\n",
    "gdf_latvia = gpd.read_file(\"./location/latvia.json\")  # Latvia data"
   ]
  },
  {
   "cell_type": "markdown",
   "metadata": {},
   "source": [
    "## User Selection"
   ]
  },
  {
   "cell_type": "code",
   "execution_count": 11,
   "metadata": {},
   "outputs": [],
   "source": [
    "# User selection variable\n",
    "# user_selection = \"Latvia\"  # Change to 'Latvia' as needed\n",
    "windfarm = input(\"Please select a wind farm: \").lower()"
   ]
  },
  {
   "cell_type": "markdown",
   "metadata": {},
   "source": [
    "## Filter and plot the data"
   ]
  },
  {
   "cell_type": "code",
   "execution_count": 12,
   "metadata": {},
   "outputs": [],
   "source": [
    "def generate_map(windfarm):\n",
    "    # Load the GeoJSON files\n",
    "    gdf_denmark = gpd.read_file(\"./location/denmark.json\")  # Denmark data\n",
    "    gdf_latvia = gpd.read_file(\"./location/latvia.json\")  # Latvia data\n",
    "    \n",
    "    # Filter the GeoDataFrames\n",
    "    nordsren_iii_vest = gdf_denmark[gdf_denmark[\"name\"] == \"Nordsren III vest\"]\n",
    "    latvia_wind_farm = gdf_latvia\n",
    "\n",
    "    # Function to calculate the average coordinates from a GeoDataFrame\n",
    "    def calculate_average_coords(gdf):\n",
    "        lats, lons = [], []\n",
    "        for geom in gdf.geometry:\n",
    "            if geom.geom_type == \"MultiPolygon\":\n",
    "                for polygon in geom.geoms:\n",
    "                    xs, ys = polygon.exterior.xy\n",
    "                    lats.extend(ys)\n",
    "                    lons.extend(xs)\n",
    "            elif geom.geom_type == \"Polygon\":\n",
    "                xs, ys = geom.exterior.xy\n",
    "                lats.extend(ys)\n",
    "                lons.extend(xs)\n",
    "        return np.mean(lats), np.mean(lons)\n",
    "\n",
    "    # Function to extract coordinates for plotting\n",
    "    def extract_coords(gdf):\n",
    "        coords = []\n",
    "        for geom in gdf.geometry:\n",
    "            if geom.geom_type == \"MultiPolygon\":\n",
    "                for polygon in geom.geoms:\n",
    "                    exterior_coords = [\n",
    "                        [point[1], point[0]] for point in polygon.exterior.coords\n",
    "                    ]\n",
    "                    coords.append(exterior_coords)\n",
    "            elif geom.geom_type == \"Polygon\":\n",
    "                exterior_coords = [\n",
    "                    [point[1], point[0]] for point in geom.exterior.coords\n",
    "                ]\n",
    "                coords.append(exterior_coords)\n",
    "        return coords\n",
    "\n",
    "    # Calculate average coordinates for Denmark and Latvia individually\n",
    "    lat_denmark, lon_denmark = calculate_average_coords(nordsren_iii_vest)\n",
    "    lat_latvia, lon_latvia = calculate_average_coords(latvia_wind_farm)\n",
    "\n",
    "    # Create focused maps based on user selection\n",
    "    focused_map = folium.Map(\n",
    "        location=(\n",
    "            [lat_denmark, lon_denmark]\n",
    "            if windfarm == \"nordsen iii vest\"\n",
    "            else [lat_latvia, lon_latvia]\n",
    "        ),\n",
    "        zoom_start=7,\n",
    "    )\n",
    "\n",
    "    # Add polygons based on user selection\n",
    "    if windfarm == \"nordsen iii vest\":\n",
    "        denmark_coords = extract_coords(nordsren_iii_vest)\n",
    "        for polygon in denmark_coords:\n",
    "            folium.Polygon(\n",
    "                locations=polygon,\n",
    "                color=\"blue\",\n",
    "                fill=True,\n",
    "                fill_color=\"blue\",\n",
    "                fill_opacity=0.5,\n",
    "            ).add_to(focused_map)\n",
    "\n",
    "    elif windfarm == \"e2\":\n",
    "        latvia_coords = extract_coords(latvia_wind_farm)\n",
    "        for polygon in latvia_coords:\n",
    "            folium.Polygon(\n",
    "                locations=polygon,\n",
    "                color=\"green\",\n",
    "                fill=True,\n",
    "                fill_color=\"green\",\n",
    "                fill_opacity=0.5,\n",
    "            ).add_to(focused_map)\n",
    "\n",
    "    # Return the map\n",
    "    return focused_map"
   ]
  },
  {
   "cell_type": "code",
   "execution_count": 13,
   "metadata": {},
   "outputs": [
    {
     "name": "stdout",
     "output_type": "stream",
     "text": [
      "nordsen iii vest\n"
     ]
    }
   ],
   "source": [
    "print(windfarm)"
   ]
  },
  {
   "cell_type": "code",
   "execution_count": 14,
   "metadata": {},
   "outputs": [
    {
     "data": {
      "text/html": [
       "<div style=\"width:100%;\"><div style=\"position:relative;width:100%;height:0;padding-bottom:60%;\"><span style=\"color:#565656\">Make this Notebook Trusted to load map: File -> Trust Notebook</span><iframe srcdoc=\"&lt;!DOCTYPE html&gt;\n",
       "&lt;html&gt;\n",
       "&lt;head&gt;\n",
       "    \n",
       "    &lt;meta http-equiv=&quot;content-type&quot; content=&quot;text/html; charset=UTF-8&quot; /&gt;\n",
       "    \n",
       "        &lt;script&gt;\n",
       "            L_NO_TOUCH = false;\n",
       "            L_DISABLE_3D = false;\n",
       "        &lt;/script&gt;\n",
       "    \n",
       "    &lt;style&gt;html, body {width: 100%;height: 100%;margin: 0;padding: 0;}&lt;/style&gt;\n",
       "    &lt;style&gt;#map {position:absolute;top:0;bottom:0;right:0;left:0;}&lt;/style&gt;\n",
       "    &lt;script src=&quot;https://cdn.jsdelivr.net/npm/leaflet@1.9.3/dist/leaflet.js&quot;&gt;&lt;/script&gt;\n",
       "    &lt;script src=&quot;https://code.jquery.com/jquery-1.12.4.min.js&quot;&gt;&lt;/script&gt;\n",
       "    &lt;script src=&quot;https://cdn.jsdelivr.net/npm/bootstrap@5.2.2/dist/js/bootstrap.bundle.min.js&quot;&gt;&lt;/script&gt;\n",
       "    &lt;script src=&quot;https://cdnjs.cloudflare.com/ajax/libs/Leaflet.awesome-markers/2.0.2/leaflet.awesome-markers.js&quot;&gt;&lt;/script&gt;\n",
       "    &lt;link rel=&quot;stylesheet&quot; href=&quot;https://cdn.jsdelivr.net/npm/leaflet@1.9.3/dist/leaflet.css&quot;/&gt;\n",
       "    &lt;link rel=&quot;stylesheet&quot; href=&quot;https://cdn.jsdelivr.net/npm/bootstrap@5.2.2/dist/css/bootstrap.min.css&quot;/&gt;\n",
       "    &lt;link rel=&quot;stylesheet&quot; href=&quot;https://netdna.bootstrapcdn.com/bootstrap/3.0.0/css/bootstrap.min.css&quot;/&gt;\n",
       "    &lt;link rel=&quot;stylesheet&quot; href=&quot;https://cdn.jsdelivr.net/npm/@fortawesome/fontawesome-free@6.2.0/css/all.min.css&quot;/&gt;\n",
       "    &lt;link rel=&quot;stylesheet&quot; href=&quot;https://cdnjs.cloudflare.com/ajax/libs/Leaflet.awesome-markers/2.0.2/leaflet.awesome-markers.css&quot;/&gt;\n",
       "    &lt;link rel=&quot;stylesheet&quot; href=&quot;https://cdn.jsdelivr.net/gh/python-visualization/folium/folium/templates/leaflet.awesome.rotate.min.css&quot;/&gt;\n",
       "    \n",
       "            &lt;meta name=&quot;viewport&quot; content=&quot;width=device-width,\n",
       "                initial-scale=1.0, maximum-scale=1.0, user-scalable=no&quot; /&gt;\n",
       "            &lt;style&gt;\n",
       "                #map_e26f6d174ffef5f78922fa7916d683ac {\n",
       "                    position: relative;\n",
       "                    width: 100.0%;\n",
       "                    height: 100.0%;\n",
       "                    left: 0.0%;\n",
       "                    top: 0.0%;\n",
       "                }\n",
       "                .leaflet-container { font-size: 1rem; }\n",
       "            &lt;/style&gt;\n",
       "        \n",
       "&lt;/head&gt;\n",
       "&lt;body&gt;\n",
       "    \n",
       "    \n",
       "            &lt;div class=&quot;folium-map&quot; id=&quot;map_e26f6d174ffef5f78922fa7916d683ac&quot; &gt;&lt;/div&gt;\n",
       "        \n",
       "&lt;/body&gt;\n",
       "&lt;script&gt;\n",
       "    \n",
       "    \n",
       "            var map_e26f6d174ffef5f78922fa7916d683ac = L.map(\n",
       "                &quot;map_e26f6d174ffef5f78922fa7916d683ac&quot;,\n",
       "                {\n",
       "                    center: [56.304288582, 6.157130806307692],\n",
       "                    crs: L.CRS.EPSG3857,\n",
       "                    zoom: 7,\n",
       "                    zoomControl: true,\n",
       "                    preferCanvas: false,\n",
       "                }\n",
       "            );\n",
       "\n",
       "            \n",
       "\n",
       "        \n",
       "    \n",
       "            var tile_layer_588dba9f4270151dfbd89f355711f34c = L.tileLayer(\n",
       "                &quot;https://{s}.tile.openstreetmap.org/{z}/{x}/{y}.png&quot;,\n",
       "                {&quot;attribution&quot;: &quot;Data by \\u0026copy; \\u003ca target=\\&quot;_blank\\&quot; href=\\&quot;http://openstreetmap.org\\&quot;\\u003eOpenStreetMap\\u003c/a\\u003e, under \\u003ca target=\\&quot;_blank\\&quot; href=\\&quot;http://www.openstreetmap.org/copyright\\&quot;\\u003eODbL\\u003c/a\\u003e.&quot;, &quot;detectRetina&quot;: false, &quot;maxNativeZoom&quot;: 18, &quot;maxZoom&quot;: 18, &quot;minZoom&quot;: 0, &quot;noWrap&quot;: false, &quot;opacity&quot;: 1, &quot;subdomains&quot;: &quot;abc&quot;, &quot;tms&quot;: false}\n",
       "            ).addTo(map_e26f6d174ffef5f78922fa7916d683ac);\n",
       "        \n",
       "    \n",
       "            var polygon_8bde18c2a73465d7115a5cad2efe3af8 = L.polygon(\n",
       "                [[56.44455658, 6.33083897], [56.43348202, 6.32951683], [56.42281236, 6.32824366], [56.35044864, 6.3322355], [56.33879166, 6.33287672], [56.33481898, 6.33309513], [56.33384629, 6.3331486], [56.33287359, 6.33320207], [56.32065789, 6.33387322], [56.30399315, 6.33478792], [56.29680704, 6.33518203], [56.28732865, 6.33570158], [56.24566778, 6.33798125], [56.24483122, 6.33802696], [56.24399466, 6.33807266], [56.21233904, 6.33980039], [56.18734247, 6.34116209], [56.18007954, 6.34155731], [56.16338717, 6.34246492], [56.11869757, 6.34488982], [56.10288443, 6.33005154], [56.01732951, 6.2500064], [55.99614912, 6.23025114], [55.9474952, 6.18496224], [55.91066276, 6.1507615], [55.88933739, 6.13099291], [55.86929801, 6.11243846], [55.78465224, 6.03429951], [55.65461979, 5.91499517], [55.58842329, 5.85459738], [55.52032769, 5.79270203], [55.52031982, 5.79269489], [55.57909353, 5.65921706], [55.78739792, 5.52500387], [55.98480552, 5.61665786], [55.97904143, 5.7132164], [56.11467071, 5.6749831], [56.22982109, 5.72497615], [56.23733553, 5.61665783], [56.50650952, 5.40742337], [56.55663609, 5.649242], [56.42373511, 5.67498309], [56.42897562, 5.76663703], [56.52953943, 5.8107609], [56.58864598, 6.21199379], [56.95435319, 6.20635179], [56.9654689, 6.23585723], [56.91015524, 6.38605037], [56.89951801, 6.41482572], [56.76611615, 6.36685013], [56.65857837, 6.34029847], [56.6585523, 6.34029205], [56.65849881, 6.34027888], [56.65203959, 6.34244848], [56.6431084, 6.33960589], [56.63296682, 6.33915663], [56.62061634, 6.33860973], [56.59395199, 6.3374298], [56.56619899, 6.33620286], [56.5456263, 6.33529411], [56.53929284, 6.33501448], [56.53298902, 6.33473621], [56.52107041, 6.33421027], [56.47063655, 6.33198709], [56.44455658, 6.33083897]],\n",
       "                {&quot;bubblingMouseEvents&quot;: true, &quot;color&quot;: &quot;blue&quot;, &quot;dashArray&quot;: null, &quot;dashOffset&quot;: null, &quot;fill&quot;: true, &quot;fillColor&quot;: &quot;blue&quot;, &quot;fillOpacity&quot;: 0.5, &quot;fillRule&quot;: &quot;evenodd&quot;, &quot;lineCap&quot;: &quot;round&quot;, &quot;lineJoin&quot;: &quot;round&quot;, &quot;noClip&quot;: false, &quot;opacity&quot;: 1.0, &quot;smoothFactor&quot;: 1.0, &quot;stroke&quot;: true, &quot;weight&quot;: 3}\n",
       "            ).addTo(map_e26f6d174ffef5f78922fa7916d683ac);\n",
       "        \n",
       "&lt;/script&gt;\n",
       "&lt;/html&gt;\" style=\"position:absolute;width:100%;height:100%;left:0;top:0;border:none !important;\" allowfullscreen webkitallowfullscreen mozallowfullscreen></iframe></div></div>"
      ],
      "text/plain": [
       "<folium.folium.Map at 0x7f03aab76f00>"
      ]
     },
     "execution_count": 14,
     "metadata": {},
     "output_type": "execute_result"
    }
   ],
   "source": [
    "map = generate_map(windfarm)\n",
    "map"
   ]
  }
 ],
 "metadata": {
  "kernelspec": {
   "display_name": "Python 3",
   "language": "python",
   "name": "python3"
  },
  "language_info": {
   "codemirror_mode": {
    "name": "ipython",
    "version": 3
   },
   "file_extension": ".py",
   "mimetype": "text/x-python",
   "name": "python",
   "nbconvert_exporter": "python",
   "pygments_lexer": "ipython3",
   "version": "3.12.2"
  }
 },
 "nbformat": 4,
 "nbformat_minor": 2
}
