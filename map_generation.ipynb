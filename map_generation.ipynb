{
 "cells": [
  {
   "cell_type": "markdown",
   "metadata": {},
   "source": [
    "## Import the modules needed"
   ]
  },
  {
   "cell_type": "code",
   "execution_count": 15,
   "metadata": {},
   "outputs": [],
   "source": [
    "import geopandas as gpd\n",
    "import folium\n",
    "import numpy as np"
   ]
  },
  {
   "cell_type": "markdown",
   "metadata": {},
   "source": [
    "## Load Json Files"
   ]
  },
  {
   "cell_type": "code",
   "execution_count": 16,
   "metadata": {},
   "outputs": [],
   "source": [
    "# Load the GeoJSON files\n",
    "gdf_denmark = gpd.read_file('location\\denmark.json')  # Denmark data\n",
    "gdf_latvia = gpd.read_file('location\\latvia.json')  # Latvia data"
   ]
  },
  {
   "cell_type": "markdown",
   "metadata": {},
   "source": [
    "## User Selection"
   ]
  },
  {
   "cell_type": "code",
   "execution_count": 17,
   "metadata": {},
   "outputs": [],
   "source": [
    "# User selection variable\n",
    "user_selection = 'Latvia'  # Change to 'Latvia' as needed"
   ]
  },
  {
   "cell_type": "markdown",
   "metadata": {},
   "source": [
    "## Filter and plot the data"
   ]
  },
  {
   "cell_type": "code",
   "execution_count": 18,
   "metadata": {},
   "outputs": [
    {
     "data": {
      "text/html": [
       "<div style=\"width:100%;\"><div style=\"position:relative;width:100%;height:0;padding-bottom:60%;\"><span style=\"color:#565656\">Make this Notebook Trusted to load map: File -> Trust Notebook</span><iframe srcdoc=\"&lt;!DOCTYPE html&gt;\n",
       "&lt;html&gt;\n",
       "&lt;head&gt;\n",
       "    \n",
       "    &lt;meta http-equiv=&quot;content-type&quot; content=&quot;text/html; charset=UTF-8&quot; /&gt;\n",
       "    \n",
       "        &lt;script&gt;\n",
       "            L_NO_TOUCH = false;\n",
       "            L_DISABLE_3D = false;\n",
       "        &lt;/script&gt;\n",
       "    \n",
       "    &lt;style&gt;html, body {width: 100%;height: 100%;margin: 0;padding: 0;}&lt;/style&gt;\n",
       "    &lt;style&gt;#map {position:absolute;top:0;bottom:0;right:0;left:0;}&lt;/style&gt;\n",
       "    &lt;script src=&quot;https://cdn.jsdelivr.net/npm/leaflet@1.9.3/dist/leaflet.js&quot;&gt;&lt;/script&gt;\n",
       "    &lt;script src=&quot;https://code.jquery.com/jquery-1.12.4.min.js&quot;&gt;&lt;/script&gt;\n",
       "    &lt;script src=&quot;https://cdn.jsdelivr.net/npm/bootstrap@5.2.2/dist/js/bootstrap.bundle.min.js&quot;&gt;&lt;/script&gt;\n",
       "    &lt;script src=&quot;https://cdnjs.cloudflare.com/ajax/libs/Leaflet.awesome-markers/2.0.2/leaflet.awesome-markers.js&quot;&gt;&lt;/script&gt;\n",
       "    &lt;link rel=&quot;stylesheet&quot; href=&quot;https://cdn.jsdelivr.net/npm/leaflet@1.9.3/dist/leaflet.css&quot;/&gt;\n",
       "    &lt;link rel=&quot;stylesheet&quot; href=&quot;https://cdn.jsdelivr.net/npm/bootstrap@5.2.2/dist/css/bootstrap.min.css&quot;/&gt;\n",
       "    &lt;link rel=&quot;stylesheet&quot; href=&quot;https://netdna.bootstrapcdn.com/bootstrap/3.0.0/css/bootstrap.min.css&quot;/&gt;\n",
       "    &lt;link rel=&quot;stylesheet&quot; href=&quot;https://cdn.jsdelivr.net/npm/@fortawesome/fontawesome-free@6.2.0/css/all.min.css&quot;/&gt;\n",
       "    &lt;link rel=&quot;stylesheet&quot; href=&quot;https://cdnjs.cloudflare.com/ajax/libs/Leaflet.awesome-markers/2.0.2/leaflet.awesome-markers.css&quot;/&gt;\n",
       "    &lt;link rel=&quot;stylesheet&quot; href=&quot;https://cdn.jsdelivr.net/gh/python-visualization/folium/folium/templates/leaflet.awesome.rotate.min.css&quot;/&gt;\n",
       "    \n",
       "            &lt;meta name=&quot;viewport&quot; content=&quot;width=device-width,\n",
       "                initial-scale=1.0, maximum-scale=1.0, user-scalable=no&quot; /&gt;\n",
       "            &lt;style&gt;\n",
       "                #map_6d95c6ce63cbe4093a05d883d9cae5a1 {\n",
       "                    position: relative;\n",
       "                    width: 100.0%;\n",
       "                    height: 100.0%;\n",
       "                    left: 0.0%;\n",
       "                    top: 0.0%;\n",
       "                }\n",
       "                .leaflet-container { font-size: 1rem; }\n",
       "            &lt;/style&gt;\n",
       "        \n",
       "&lt;/head&gt;\n",
       "&lt;body&gt;\n",
       "    \n",
       "    \n",
       "            &lt;div class=&quot;folium-map&quot; id=&quot;map_6d95c6ce63cbe4093a05d883d9cae5a1&quot; &gt;&lt;/div&gt;\n",
       "        \n",
       "&lt;/body&gt;\n",
       "&lt;script&gt;\n",
       "    \n",
       "    \n",
       "            var map_6d95c6ce63cbe4093a05d883d9cae5a1 = L.map(\n",
       "                &quot;map_6d95c6ce63cbe4093a05d883d9cae5a1&quot;,\n",
       "                {\n",
       "                    center: [54.526, 15.2551],\n",
       "                    crs: L.CRS.EPSG3857,\n",
       "                    zoom: 5,\n",
       "                    zoomControl: true,\n",
       "                    preferCanvas: false,\n",
       "                }\n",
       "            );\n",
       "\n",
       "            \n",
       "\n",
       "        \n",
       "    \n",
       "            var tile_layer_e6e9d67d3ab38a70f0ed421cf7a3ebfb = L.tileLayer(\n",
       "                &quot;https://{s}.tile.openstreetmap.org/{z}/{x}/{y}.png&quot;,\n",
       "                {&quot;attribution&quot;: &quot;Data by \\u0026copy; \\u003ca target=\\&quot;_blank\\&quot; href=\\&quot;http://openstreetmap.org\\&quot;\\u003eOpenStreetMap\\u003c/a\\u003e, under \\u003ca target=\\&quot;_blank\\&quot; href=\\&quot;http://www.openstreetmap.org/copyright\\&quot;\\u003eODbL\\u003c/a\\u003e.&quot;, &quot;detectRetina&quot;: false, &quot;maxNativeZoom&quot;: 18, &quot;maxZoom&quot;: 18, &quot;minZoom&quot;: 0, &quot;noWrap&quot;: false, &quot;opacity&quot;: 1, &quot;subdomains&quot;: &quot;abc&quot;, &quot;tms&quot;: false}\n",
       "            ).addTo(map_6d95c6ce63cbe4093a05d883d9cae5a1);\n",
       "        \n",
       "    \n",
       "            var polygon_ca50c5c3991805d468efb404e99ccc67 = L.polygon(\n",
       "                [[56.04899, 20.7050015], [56.04543597, 20.70677669], [56.0455692, 20.68584643], [56.04569432, 20.66618941], [56.04580407, 20.64827858], [56.04589089, 20.64828036], [56.0460705, 20.6482712], [56.04624976, 20.64824921], [56.04642838, 20.64821443], [56.04660608, 20.6481669], [56.04678257, 20.6481067], [56.04695758, 20.64803394], [56.04713081, 20.64794872], [56.047302, 20.64785119], [56.04747087, 20.6477415], [56.04763714, 20.64761982], [56.04780056, 20.64748636], [56.04796086, 20.64734131], [56.04811778, 20.64718492], [56.04827107, 20.64701744], [56.04842049, 20.64683913], [56.04849565, 20.64674343], [56.06163037, 20.62964584], [56.06726791, 20.62251951], [56.16388491, 20.52554762], [56.16514499, 20.52428339], [56.16528004, 20.52414789], [56.16543153, 20.52442489], [56.16498319, 20.57003625], [56.16478358, 20.59039022], [56.16478038, 20.59071623], [56.16472875, 20.59598036], [56.16422379, 20.64746999], [56.16367612, 20.70370483], [56.16183648, 20.70542786], [56.06928296, 20.70984739], [56.06843914, 20.70886885], [56.06540963, 20.70534907], [56.04899, 20.7050015]],\n",
       "                {&quot;bubblingMouseEvents&quot;: true, &quot;color&quot;: &quot;green&quot;, &quot;dashArray&quot;: null, &quot;dashOffset&quot;: null, &quot;fill&quot;: true, &quot;fillColor&quot;: &quot;green&quot;, &quot;fillOpacity&quot;: 0.5, &quot;fillRule&quot;: &quot;evenodd&quot;, &quot;lineCap&quot;: &quot;round&quot;, &quot;lineJoin&quot;: &quot;round&quot;, &quot;noClip&quot;: false, &quot;opacity&quot;: 1.0, &quot;smoothFactor&quot;: 1.0, &quot;stroke&quot;: true, &quot;weight&quot;: 3}\n",
       "            ).addTo(map_6d95c6ce63cbe4093a05d883d9cae5a1);\n",
       "        \n",
       "&lt;/script&gt;\n",
       "&lt;/html&gt;\" style=\"position:absolute;width:100%;height:100%;left:0;top:0;border:none !important;\" allowfullscreen webkitallowfullscreen mozallowfullscreen></iframe></div></div>"
      ],
      "text/plain": [
       "<folium.folium.Map at 0x21aa4112e50>"
      ]
     },
     "execution_count": 18,
     "metadata": {},
     "output_type": "execute_result"
    }
   ],
   "source": [
    "# Filter the GeoDataFrames\n",
    "nordsren_iii_vest = gdf_denmark[gdf_denmark['name'] == 'Nordsren III vest']\n",
    "latvia_wind_farm = gdf_latvia  # Assuming you want to include all entries, adjust if needed\n",
    "\n",
    "# Function to extract coordinates for plotting\n",
    "def extract_coords(gdf):\n",
    "    coords = []\n",
    "    for geom in gdf.geometry:\n",
    "        if geom.geom_type == 'MultiPolygon':\n",
    "            for polygon in geom.geoms:\n",
    "                exterior_coords = [[point[1], point[0]] for point in polygon.exterior.coords]\n",
    "                coords.append(exterior_coords)\n",
    "        elif geom.geom_type == 'Polygon':\n",
    "            exterior_coords = [[point[1], point[0]] for point in geom.exterior.coords]\n",
    "            coords.append(exterior_coords)\n",
    "    return coords\n",
    "\n",
    "def calculate_average_coords(gdf):\n",
    "    lats, lons = [], []\n",
    "    for geom in gdf.geometry:\n",
    "        if geom.geom_type == 'MultiPolygon':\n",
    "            for polygon in geom.geoms:\n",
    "                xs, ys = polygon.exterior.xy\n",
    "                lats.extend(ys)\n",
    "                lons.extend(xs)\n",
    "        elif geom.geom_type == 'Polygon':\n",
    "            xs, ys = geom.exterior.xy\n",
    "            lats.extend(ys)\n",
    "            lons.extend(xs)\n",
    "    return np.mean(lats), np.mean(lons)\n",
    "\n",
    "# Calculate average coordinates for Denmark and Latvia individually\n",
    "lat_denmark, lon_denmark = calculate_average_coords(nordsren_iii_vest)\n",
    "lat_latvia, lon_latvia = calculate_average_coords(latvia_wind_farm)\n",
    "\n",
    "# Create a map centered around Europe\n",
    "europe_map = folium.Map(location=[54.5260, 15.2551], zoom_start=5)\n",
    "denmark_map = folium.Map(location=[lat_denmark, lon_denmark], zoom_start=7)  \n",
    "latvia_map = folium.Map(location=[lat_latvia, lon_latvia], zoom_start=7)\n",
    "\n",
    "# Create focused maps based on user selection\n",
    "focused_map = folium.Map(location=[lat_denmark, lon_denmark] if user_selection == 'Denmark' else [lat_latvia, lon_latvia], zoom_start=7)\n",
    "\n",
    "# Add polygons based on user selection\n",
    "if user_selection == 'Denmark':\n",
    "    denmark_coords = extract_coords(nordsren_iii_vest)\n",
    "    for polygon in denmark_coords:\n",
    "        folium.Polygon(locations=polygon, color='blue', fill=True, fill_color='blue', fill_opacity=0.5).add_to(europe_map)\n",
    "        folium.Polygon(locations=polygon, color='blue', fill=True, fill_color='blue', fill_opacity=0.5).add_to(focused_map)\n",
    "\n",
    "elif user_selection == 'Latvia':\n",
    "    latvia_coords = extract_coords(latvia_wind_farm)\n",
    "    for polygon in latvia_coords:\n",
    "        folium.Polygon(locations=polygon, color='green', fill=True, fill_color='green', fill_opacity=0.5).add_to(europe_map)\n",
    "        folium.Polygon(locations=polygon, color='green', fill=True, fill_color='green', fill_opacity=0.5).add_to(focused_map)\n",
    "\n",
    "# Display the maps\n",
    "# First, display the general Europe map\n",
    "europe_map\n"
   ]
  },
  {
   "cell_type": "code",
   "execution_count": 19,
   "metadata": {},
   "outputs": [
    {
     "data": {
      "text/html": [
       "<div style=\"width:100%;\"><div style=\"position:relative;width:100%;height:0;padding-bottom:60%;\"><span style=\"color:#565656\">Make this Notebook Trusted to load map: File -> Trust Notebook</span><iframe srcdoc=\"&lt;!DOCTYPE html&gt;\n",
       "&lt;html&gt;\n",
       "&lt;head&gt;\n",
       "    \n",
       "    &lt;meta http-equiv=&quot;content-type&quot; content=&quot;text/html; charset=UTF-8&quot; /&gt;\n",
       "    \n",
       "        &lt;script&gt;\n",
       "            L_NO_TOUCH = false;\n",
       "            L_DISABLE_3D = false;\n",
       "        &lt;/script&gt;\n",
       "    \n",
       "    &lt;style&gt;html, body {width: 100%;height: 100%;margin: 0;padding: 0;}&lt;/style&gt;\n",
       "    &lt;style&gt;#map {position:absolute;top:0;bottom:0;right:0;left:0;}&lt;/style&gt;\n",
       "    &lt;script src=&quot;https://cdn.jsdelivr.net/npm/leaflet@1.9.3/dist/leaflet.js&quot;&gt;&lt;/script&gt;\n",
       "    &lt;script src=&quot;https://code.jquery.com/jquery-1.12.4.min.js&quot;&gt;&lt;/script&gt;\n",
       "    &lt;script src=&quot;https://cdn.jsdelivr.net/npm/bootstrap@5.2.2/dist/js/bootstrap.bundle.min.js&quot;&gt;&lt;/script&gt;\n",
       "    &lt;script src=&quot;https://cdnjs.cloudflare.com/ajax/libs/Leaflet.awesome-markers/2.0.2/leaflet.awesome-markers.js&quot;&gt;&lt;/script&gt;\n",
       "    &lt;link rel=&quot;stylesheet&quot; href=&quot;https://cdn.jsdelivr.net/npm/leaflet@1.9.3/dist/leaflet.css&quot;/&gt;\n",
       "    &lt;link rel=&quot;stylesheet&quot; href=&quot;https://cdn.jsdelivr.net/npm/bootstrap@5.2.2/dist/css/bootstrap.min.css&quot;/&gt;\n",
       "    &lt;link rel=&quot;stylesheet&quot; href=&quot;https://netdna.bootstrapcdn.com/bootstrap/3.0.0/css/bootstrap.min.css&quot;/&gt;\n",
       "    &lt;link rel=&quot;stylesheet&quot; href=&quot;https://cdn.jsdelivr.net/npm/@fortawesome/fontawesome-free@6.2.0/css/all.min.css&quot;/&gt;\n",
       "    &lt;link rel=&quot;stylesheet&quot; href=&quot;https://cdnjs.cloudflare.com/ajax/libs/Leaflet.awesome-markers/2.0.2/leaflet.awesome-markers.css&quot;/&gt;\n",
       "    &lt;link rel=&quot;stylesheet&quot; href=&quot;https://cdn.jsdelivr.net/gh/python-visualization/folium/folium/templates/leaflet.awesome.rotate.min.css&quot;/&gt;\n",
       "    \n",
       "            &lt;meta name=&quot;viewport&quot; content=&quot;width=device-width,\n",
       "                initial-scale=1.0, maximum-scale=1.0, user-scalable=no&quot; /&gt;\n",
       "            &lt;style&gt;\n",
       "                #map_ca041667c10932a9bcce8587c1643c72 {\n",
       "                    position: relative;\n",
       "                    width: 100.0%;\n",
       "                    height: 100.0%;\n",
       "                    left: 0.0%;\n",
       "                    top: 0.0%;\n",
       "                }\n",
       "                .leaflet-container { font-size: 1rem; }\n",
       "            &lt;/style&gt;\n",
       "        \n",
       "&lt;/head&gt;\n",
       "&lt;body&gt;\n",
       "    \n",
       "    \n",
       "            &lt;div class=&quot;folium-map&quot; id=&quot;map_ca041667c10932a9bcce8587c1643c72&quot; &gt;&lt;/div&gt;\n",
       "        \n",
       "&lt;/body&gt;\n",
       "&lt;script&gt;\n",
       "    \n",
       "    \n",
       "            var map_ca041667c10932a9bcce8587c1643c72 = L.map(\n",
       "                &quot;map_ca041667c10932a9bcce8587c1643c72&quot;,\n",
       "                {\n",
       "                    center: [56.08268872615383, 20.641193611794872],\n",
       "                    crs: L.CRS.EPSG3857,\n",
       "                    zoom: 7,\n",
       "                    zoomControl: true,\n",
       "                    preferCanvas: false,\n",
       "                }\n",
       "            );\n",
       "\n",
       "            \n",
       "\n",
       "        \n",
       "    \n",
       "            var tile_layer_f81725554028466066a3bc1287ceeaa8 = L.tileLayer(\n",
       "                &quot;https://{s}.tile.openstreetmap.org/{z}/{x}/{y}.png&quot;,\n",
       "                {&quot;attribution&quot;: &quot;Data by \\u0026copy; \\u003ca target=\\&quot;_blank\\&quot; href=\\&quot;http://openstreetmap.org\\&quot;\\u003eOpenStreetMap\\u003c/a\\u003e, under \\u003ca target=\\&quot;_blank\\&quot; href=\\&quot;http://www.openstreetmap.org/copyright\\&quot;\\u003eODbL\\u003c/a\\u003e.&quot;, &quot;detectRetina&quot;: false, &quot;maxNativeZoom&quot;: 18, &quot;maxZoom&quot;: 18, &quot;minZoom&quot;: 0, &quot;noWrap&quot;: false, &quot;opacity&quot;: 1, &quot;subdomains&quot;: &quot;abc&quot;, &quot;tms&quot;: false}\n",
       "            ).addTo(map_ca041667c10932a9bcce8587c1643c72);\n",
       "        \n",
       "    \n",
       "            var polygon_83250fd651ae767956825f45ca72ff30 = L.polygon(\n",
       "                [[56.04899, 20.7050015], [56.04543597, 20.70677669], [56.0455692, 20.68584643], [56.04569432, 20.66618941], [56.04580407, 20.64827858], [56.04589089, 20.64828036], [56.0460705, 20.6482712], [56.04624976, 20.64824921], [56.04642838, 20.64821443], [56.04660608, 20.6481669], [56.04678257, 20.6481067], [56.04695758, 20.64803394], [56.04713081, 20.64794872], [56.047302, 20.64785119], [56.04747087, 20.6477415], [56.04763714, 20.64761982], [56.04780056, 20.64748636], [56.04796086, 20.64734131], [56.04811778, 20.64718492], [56.04827107, 20.64701744], [56.04842049, 20.64683913], [56.04849565, 20.64674343], [56.06163037, 20.62964584], [56.06726791, 20.62251951], [56.16388491, 20.52554762], [56.16514499, 20.52428339], [56.16528004, 20.52414789], [56.16543153, 20.52442489], [56.16498319, 20.57003625], [56.16478358, 20.59039022], [56.16478038, 20.59071623], [56.16472875, 20.59598036], [56.16422379, 20.64746999], [56.16367612, 20.70370483], [56.16183648, 20.70542786], [56.06928296, 20.70984739], [56.06843914, 20.70886885], [56.06540963, 20.70534907], [56.04899, 20.7050015]],\n",
       "                {&quot;bubblingMouseEvents&quot;: true, &quot;color&quot;: &quot;green&quot;, &quot;dashArray&quot;: null, &quot;dashOffset&quot;: null, &quot;fill&quot;: true, &quot;fillColor&quot;: &quot;green&quot;, &quot;fillOpacity&quot;: 0.5, &quot;fillRule&quot;: &quot;evenodd&quot;, &quot;lineCap&quot;: &quot;round&quot;, &quot;lineJoin&quot;: &quot;round&quot;, &quot;noClip&quot;: false, &quot;opacity&quot;: 1.0, &quot;smoothFactor&quot;: 1.0, &quot;stroke&quot;: true, &quot;weight&quot;: 3}\n",
       "            ).addTo(map_ca041667c10932a9bcce8587c1643c72);\n",
       "        \n",
       "&lt;/script&gt;\n",
       "&lt;/html&gt;\" style=\"position:absolute;width:100%;height:100%;left:0;top:0;border:none !important;\" allowfullscreen webkitallowfullscreen mozallowfullscreen></iframe></div></div>"
      ],
      "text/plain": [
       "<folium.folium.Map at 0x21aa41411f0>"
      ]
     },
     "execution_count": 19,
     "metadata": {},
     "output_type": "execute_result"
    }
   ],
   "source": [
    "# Then, display the focused map based on user selection\n",
    "focused_map"
   ]
  }
 ],
 "metadata": {
  "kernelspec": {
   "display_name": "Python 3",
   "language": "python",
   "name": "python3"
  },
  "language_info": {
   "codemirror_mode": {
    "name": "ipython",
    "version": 3
   },
   "file_extension": ".py",
   "mimetype": "text/x-python",
   "name": "python",
   "nbconvert_exporter": "python",
   "pygments_lexer": "ipython3",
   "version": "3.9.18"
  }
 },
 "nbformat": 4,
 "nbformat_minor": 2
}
