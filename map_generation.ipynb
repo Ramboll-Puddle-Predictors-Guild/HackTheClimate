{
 "cells": [
  {
   "cell_type": "markdown",
   "metadata": {},
   "source": [
    "## Import the modules needed"
   ]
  },
  {
   "cell_type": "code",
   "execution_count": null,
   "metadata": {},
   "outputs": [],
   "source": [
    "import geopandas as gpd\n",
    "import folium"
   ]
  },
  {
   "cell_type": "markdown",
   "metadata": {},
   "source": [
    "## Load Json Files"
   ]
  },
  {
   "cell_type": "code",
   "execution_count": null,
   "metadata": {},
   "outputs": [],
   "source": [
    "# Load the GeoJSON files\n",
    "gdf_denmark = gpd.read_file('location\\denmark.json')  # Denmark data\n",
    "gdf_latvia = gpd.read_file('location\\latvia.json')  # Latvia data"
   ]
  },
  {
   "cell_type": "markdown",
   "metadata": {},
   "source": [
    "## User Selection"
   ]
  },
  {
   "cell_type": "code",
   "execution_count": null,
   "metadata": {},
   "outputs": [],
   "source": [
    "# User selection variable\n",
    "user_selection = 'Latvia'  # Change to 'Latvia' as needed"
   ]
  },
  {
   "cell_type": "markdown",
   "metadata": {},
   "source": [
    "## Filter and plot the data"
   ]
  },
  {
   "cell_type": "code",
   "execution_count": null,
   "metadata": {},
   "outputs": [],
   "source": [
    "# Filter the GeoDataFrames\n",
    "nordsren_iii_vest = gdf_denmark[gdf_denmark['name'] == 'Nordsren III vest']\n",
    "latvia_wind_farm = gdf_latvia  # Assuming you want to include all entries, adjust if needed\n",
    "\n",
    "# Function to extract coordinates for plotting\n",
    "def extract_coords(gdf):\n",
    "    coords = []\n",
    "    for geom in gdf.geometry:\n",
    "        if geom.geom_type == 'MultiPolygon':\n",
    "            for polygon in geom.geoms:\n",
    "                exterior_coords = [[point[1], point[0]] for point in polygon.exterior.coords]\n",
    "                coords.append(exterior_coords)\n",
    "        elif geom.geom_type == 'Polygon':\n",
    "            exterior_coords = [[point[1], point[0]] for point in geom.exterior.coords]\n",
    "            coords.append(exterior_coords)\n",
    "    return coords\n",
    "\n",
    "\n",
    "\n",
    "# Create a map centered around Europe\n",
    "europe_map = folium.Map(location=[54.5260, 15.2551], zoom_start=4)\n",
    "\n",
    "\n",
    "# Based on user selection, extract the appropriate coordinates and add them to the map\n",
    "if user_selection == 'Denmark':\n",
    "    denmark_coords = extract_coords(nordsren_iii_vest)\n",
    "    for polygon in denmark_coords:\n",
    "        folium.Polygon(locations=polygon, color='blue', fill=True, fill_color='blue', fill_opacity=0.5).add_to(europe_map)\n",
    "elif user_selection == 'Latvia':\n",
    "    latvia_coords = extract_coords(latvia_wind_farm)\n",
    "    for polygon in latvia_coords:\n",
    "        folium.Polygon(locations=polygon, color='green', fill=True, fill_color='green', fill_opacity=0.5).add_to(europe_map)\n",
    "\n",
    "# Display the map\n",
    "europe_map"
   ]
  }
 ],
 "metadata": {
  "kernelspec": {
   "display_name": "Python 3",
   "language": "python",
   "name": "python3"
  },
  "language_info": {
   "codemirror_mode": {
    "name": "ipython",
    "version": 3
   },
   "file_extension": ".py",
   "mimetype": "text/x-python",
   "name": "python",
   "nbconvert_exporter": "python",
   "pygments_lexer": "ipython3",
   "version": "3.9.18"
  }
 },
 "nbformat": 4,
 "nbformat_minor": 2
}
